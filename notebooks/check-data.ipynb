{
 "cells": [
  {
   "cell_type": "code",
   "execution_count": 1,
   "id": "3f8ea9ff-1e70-4319-9273-fd9df09e9037",
   "metadata": {},
   "outputs": [],
   "source": [
    "import json\n",
    "with open('./testdata.json', 'r') as f:\n",
    "    data = json.load(f)"
   ]
  },
  {
   "cell_type": "code",
   "execution_count": 2,
   "id": "faabfe53-f7b6-4dfa-818e-0432de7dc9ed",
   "metadata": {},
   "outputs": [
    {
     "data": {
      "text/plain": [
       "3"
      ]
     },
     "execution_count": 2,
     "metadata": {},
     "output_type": "execute_result"
    }
   ],
   "source": [
    "len(data)"
   ]
  },
  {
   "cell_type": "code",
   "execution_count": 3,
   "id": "af3431a3-9e16-4158-8f92-ccffc083a31b",
   "metadata": {},
   "outputs": [
    {
     "data": {
      "text/plain": [
       "dict_keys(['num_samples', 'users', 'user_data'])"
      ]
     },
     "execution_count": 3,
     "metadata": {},
     "output_type": "execute_result"
    }
   ],
   "source": [
    "data.keys()"
   ]
  },
  {
   "cell_type": "code",
   "execution_count": 4,
   "id": "49c53ff3-2a6a-4f87-abb8-4442826daf4c",
   "metadata": {},
   "outputs": [
    {
     "data": {
      "text/plain": [
       "(200, 200, 200)"
      ]
     },
     "execution_count": 4,
     "metadata": {},
     "output_type": "execute_result"
    }
   ],
   "source": [
    "len(data['num_samples']), len(data['users']), len(data['user_data'])"
   ]
  },
  {
   "cell_type": "code",
   "execution_count": 5,
   "id": "20d841a0-348f-45bf-adfa-3191005ae96e",
   "metadata": {},
   "outputs": [
    {
     "data": {
      "text/plain": [
       "True"
      ]
     },
     "execution_count": 5,
     "metadata": {},
     "output_type": "execute_result"
    }
   ],
   "source": [
    "sorted(list(data['user_data'].keys())) == (data['users'])"
   ]
  },
  {
   "cell_type": "code",
   "execution_count": 6,
   "id": "a043fb40-c470-413e-ae80-421ab0f2a304",
   "metadata": {},
   "outputs": [
    {
     "data": {
      "text/plain": [
       "True"
      ]
     },
     "execution_count": 6,
     "metadata": {},
     "output_type": "execute_result"
    }
   ],
   "source": [
    "[len(j['x']) for i, j in sorted(list(data['user_data'].items()))] == data['num_samples']"
   ]
  },
  {
   "cell_type": "code",
   "execution_count": 12,
   "id": "4441b453-b3c5-494f-b61d-cd0fa6e9ff78",
   "metadata": {},
   "outputs": [
    {
     "data": {
      "text/plain": [
       "[1.0, 1.0, 1.0, 3.0, 1.0]"
      ]
     },
     "execution_count": 12,
     "metadata": {},
     "output_type": "execute_result"
    }
   ],
   "source": [
    "(data['user_data']['f_00181'])['y']"
   ]
  },
  {
   "cell_type": "code",
   "execution_count": 26,
   "id": "de80f8ac-cf82-436c-a2a4-3a0ce1dd31c5",
   "metadata": {},
   "outputs": [],
   "source": [
    "import numpy as np\n",
    "import seaborn as sns\n",
    "from collections import Counter\n",
    "\n",
    "all_y = [] \n",
    "for u in data['users']:\n",
    "    all_y += data['user_data'][u]['y']"
   ]
  },
  {
   "cell_type": "code",
   "execution_count": 27,
   "id": "f4a4cad8-c1f1-45c2-a0b6-e16fd10be6c5",
   "metadata": {},
   "outputs": [
    {
     "data": {
      "text/plain": [
       "Counter({0.0: 182,\n",
       "         2.0: 246,\n",
       "         1.0: 156,\n",
       "         3.0: 233,\n",
       "         4.0: 254,\n",
       "         5.0: 201,\n",
       "         6.0: 171,\n",
       "         7.0: 166,\n",
       "         8.0: 150,\n",
       "         9.0: 165})"
      ]
     },
     "execution_count": 27,
     "metadata": {},
     "output_type": "execute_result"
    }
   ],
   "source": [
    "Counter(all_y)"
   ]
  },
  {
   "cell_type": "code",
   "execution_count": null,
   "id": "f2d0d990-3714-4697-924e-b66f3b60c907",
   "metadata": {},
   "outputs": [],
   "source": []
  },
  {
   "cell_type": "code",
   "execution_count": 59,
   "id": "2a784b85-94a6-49d8-a927-b02b89cb63b3",
   "metadata": {},
   "outputs": [],
   "source": [
    "import json\n",
    "with open('./all_data_niid_2_keep_0_train_8.json', 'r') as f:\n",
    "    data = json.load(f)"
   ]
  },
  {
   "cell_type": "code",
   "execution_count": 60,
   "id": "ff3cc608-14e6-4c91-9089-46e6a835a9e5",
   "metadata": {},
   "outputs": [
    {
     "data": {
      "text/plain": [
       "4"
      ]
     },
     "execution_count": 60,
     "metadata": {},
     "output_type": "execute_result"
    }
   ],
   "source": [
    "len(data)"
   ]
  },
  {
   "cell_type": "code",
   "execution_count": 61,
   "id": "530d86c5-6d57-4ff8-abaf-fb54dad65619",
   "metadata": {},
   "outputs": [
    {
     "data": {
      "text/plain": [
       "dict_keys(['users', 'num_samples', 'user_data', 'hierarchies'])"
      ]
     },
     "execution_count": 61,
     "metadata": {},
     "output_type": "execute_result"
    }
   ],
   "source": [
    "data.keys()"
   ]
  },
  {
   "cell_type": "code",
   "execution_count": 62,
   "id": "c93dd351-08ad-4ee8-9726-65f269668ebb",
   "metadata": {},
   "outputs": [
    {
     "data": {
      "text/plain": [
       "(143, 143, 143)"
      ]
     },
     "execution_count": 62,
     "metadata": {},
     "output_type": "execute_result"
    }
   ],
   "source": [
    "len(data['num_samples']), len(data['users']), len(data['user_data'])"
   ]
  },
  {
   "cell_type": "code",
   "execution_count": 63,
   "id": "3cf61796-b7e9-4a08-a0ea-38083f90bc58",
   "metadata": {},
   "outputs": [
    {
     "data": {
      "text/plain": [
       "True"
      ]
     },
     "execution_count": 63,
     "metadata": {},
     "output_type": "execute_result"
    }
   ],
   "source": [
    "(list(data['user_data'].keys())) == (data['users'])"
   ]
  },
  {
   "cell_type": "code",
   "execution_count": 64,
   "id": "1dea93fe-9687-4472-8d6e-f7f28692036b",
   "metadata": {},
   "outputs": [
    {
     "data": {
      "text/plain": [
       "True"
      ]
     },
     "execution_count": 64,
     "metadata": {},
     "output_type": "execute_result"
    }
   ],
   "source": [
    "[len(j['x']) for i, j in (list(data['user_data'].items()))] == data['num_samples']"
   ]
  },
  {
   "cell_type": "code",
   "execution_count": null,
   "id": "61f9bacb-6577-4e28-9300-2d327b2ccf6a",
   "metadata": {},
   "outputs": [],
   "source": []
  },
  {
   "cell_type": "code",
   "execution_count": 70,
   "id": "d91911ab-1c17-4411-b836-795e35e7d9de",
   "metadata": {},
   "outputs": [
    {
     "data": {
      "text/plain": [
       "[(\"pauca, pauca; slice! That's my humour. Be avis'd, sir, and pass good humours; I \",\n",
       "  'w'),\n",
       " (\"uca, pauca; slice! That's my humour. Be avis'd, sir, and pass good humours; I wi\",\n",
       "  'l'),\n",
       " (\"ca, pauca; slice! That's my humour. Be avis'd, sir, and pass good humours; I wil\",\n",
       "  'l'),\n",
       " (\"a, pauca; slice! That's my humour. Be avis'd, sir, and pass good humours; I will\",\n",
       "  ' '),\n",
       " (\", pauca; slice! That's my humour. Be avis'd, sir, and pass good humours; I will \",\n",
       "  's'),\n",
       " (\" pauca; slice! That's my humour. Be avis'd, sir, and pass good humours; I will s\",\n",
       "  'a'),\n",
       " (\"pauca; slice! That's my humour. Be avis'd, sir, and pass good humours; I will sa\",\n",
       "  'y'),\n",
       " (\"auca; slice! That's my humour. Be avis'd, sir, and pass good humours; I will say\",\n",
       "  ' '),\n",
       " (\"uca; slice! That's my humour. Be avis'd, sir, and pass good humours; I will say \",\n",
       "  \"'\"),\n",
       " (\"ca; slice! That's my humour. Be avis'd, sir, and pass good humours; I will say '\",\n",
       "  'm'),\n",
       " (\"a; slice! That's my humour. Be avis'd, sir, and pass good humours; I will say 'm\",\n",
       "  'a'),\n",
       " (\"; slice! That's my humour. Be avis'd, sir, and pass good humours; I will say 'ma\",\n",
       "  'r'),\n",
       " (\" slice! That's my humour. Be avis'd, sir, and pass good humours; I will say 'mar\",\n",
       "  'r'),\n",
       " (\"slice! That's my humour. Be avis'd, sir, and pass good humours; I will say 'marr\",\n",
       "  'y'),\n",
       " (\"lice! That's my humour. Be avis'd, sir, and pass good humours; I will say 'marry\",\n",
       "  ' '),\n",
       " (\"ice! That's my humour. Be avis'd, sir, and pass good humours; I will say 'marry \",\n",
       "  't'),\n",
       " (\"ce! That's my humour. Be avis'd, sir, and pass good humours; I will say 'marry t\",\n",
       "  'r'),\n",
       " (\"e! That's my humour. Be avis'd, sir, and pass good humours; I will say 'marry tr\",\n",
       "  'a'),\n",
       " (\"! That's my humour. Be avis'd, sir, and pass good humours; I will say 'marry tra\",\n",
       "  'p'),\n",
       " (\" That's my humour. Be avis'd, sir, and pass good humours; I will say 'marry trap\",\n",
       "  \"'\"),\n",
       " (\"That's my humour. Be avis'd, sir, and pass good humours; I will say 'marry trap'\",\n",
       "  ' '),\n",
       " (\"hat's my humour. Be avis'd, sir, and pass good humours; I will say 'marry trap' \",\n",
       "  'w'),\n",
       " (\"at's my humour. Be avis'd, sir, and pass good humours; I will say 'marry trap' w\",\n",
       "  'i'),\n",
       " (\"'s my humour. Be avis'd, sir, and pass good humours; I will say 'marry trap' wit\",\n",
       "  'h'),\n",
       " (\"s my humour. Be avis'd, sir, and pass good humours; I will say 'marry trap' with\",\n",
       "  ' ')]"
      ]
     },
     "execution_count": 70,
     "metadata": {},
     "output_type": "execute_result"
    }
   ],
   "source": [
    "list(zip(data['user_data']['THE_TRAGEDY_OF_KING_LEAR_NYM']['x'], data['user_data']['THE_TRAGEDY_OF_KING_LEAR_NYM']['y']))[10:35]"
   ]
  },
  {
   "cell_type": "code",
   "execution_count": 66,
   "id": "dcff3fc7-d0e4-4bec-a17f-d22713106483",
   "metadata": {},
   "outputs": [
    {
     "data": {
      "text/plain": [
       "['THE_TRAGEDY_OF_KING_LEAR_NYM',\n",
       " 'THE_TRAGEDY_OF_KING_LEAR_MOONSHINE',\n",
       " 'ALL_S_WELL_THAT_ENDS_WELL_ROMAN',\n",
       " 'THE_TAMING_OF_THE_SHREW_SERVANT',\n",
       " 'THE_FIRST_PART_OF_KING_HENRY_THE_FOURTH_FLUELLEN',\n",
       " 'THE_FIRST_PART_OF_KING_HENRY_THE_FOURTH_DAVY',\n",
       " 'THE_TRAGEDY_OF_KING_LEAR_MACDUFF',\n",
       " 'THE_TRAGEDY_OF_KING_LEAR_ANNE',\n",
       " 'THE_TAMING_OF_THE_SHREW_ALL_SERVANTS',\n",
       " 'THE_TRAGEDY_OF_KING_LEAR_DESERVING_A_FAIR_LADY',\n",
       " 'THE_TAMING_OF_THE_SHREW_TIMANDRA',\n",
       " 'THE_TRAGEDY_OF_KING_LEAR_KATHARINE',\n",
       " 'THE_TRAGEDY_OF_KING_LEAR_BOYET',\n",
       " 'ALL_S_WELL_THAT_ENDS_WELL_SECOND_GENTLEMAN',\n",
       " 'THE_TRAGEDY_OF_KING_LEAR_SECOND_MURTHERER',\n",
       " 'THE_TRAGEDY_OF_KING_LEAR_DULL',\n",
       " 'PERICLES__PRINCE_OF_TYRE_YORK',\n",
       " 'ALL_S_WELL_THAT_ENDS_WELL_HYMEN',\n",
       " 'ALL_S_WELL_THAT_ENDS_WELL_CELIA',\n",
       " 'THE_FIRST_PART_OF_KING_HENRY_THE_FOURTH_SIMPCOX',\n",
       " 'PERICLES__PRINCE_OF_TYRE_SECOND_MESSENGER',\n",
       " 'THE_TAMING_OF_THE_SHREW_SEMPRONIUS',\n",
       " 'THE_FIRST_PART_OF_KING_HENRY_THE_FOURTH_GRANDPRE',\n",
       " 'THE_FIRST_PART_OF_KING_HENRY_THE_FOURTH_THIRD_DRAWER',\n",
       " 'THE_TAMING_OF_THE_SHREW_BANDITTI',\n",
       " 'THE_FIRST_PART_OF_KING_HENRY_THE_FOURTH_GENTLEMAN',\n",
       " 'THE_FIRST_PART_OF_KING_HENRY_THE_FOURTH_KING_PHILIP',\n",
       " 'THE_FIRST_PART_OF_KING_HENRY_THE_FOURTH_GEORGE',\n",
       " 'THE_FIRST_PART_OF_KING_HENRY_THE_FOURTH_LADY_GREY',\n",
       " 'THE_TRAGEDY_OF_KING_LEAR_WILLIAM',\n",
       " 'ALL_S_WELL_THAT_ENDS_WELL_MENECRATES',\n",
       " 'THE_FIRST_PART_OF_KING_HENRY_THE_FOURTH_CAMPEIUS',\n",
       " 'ALL_S_WELL_THAT_ENDS_WELL_BROTHERS',\n",
       " 'PERICLES__PRINCE_OF_TYRE_GARDENER',\n",
       " 'THE_FIRST_PART_OF_KING_HENRY_THE_FOURTH_OLD_LADY',\n",
       " 'PERICLES__PRINCE_OF_TYRE_ANOTHER_LORD',\n",
       " 'THE_TAMING_OF_THE_SHREW_PAINTER',\n",
       " 'THE_FIRST_PART_OF_KING_HENRY_THE_FOURTH_NORTHUMBERLAND',\n",
       " 'PERICLES__PRINCE_OF_TYRE_LOVEL',\n",
       " 'THE_TRAGEDY_OF_KING_LEAR_DUMAIN',\n",
       " 'THE_TAMING_OF_THE_SHREW_SENATOR',\n",
       " 'THE_FIRST_PART_OF_KING_HENRY_THE_FOURTH_PORTER',\n",
       " 'THE_FIRST_PART_OF_KING_HENRY_THE_FOURTH_QUEEN_ISABEL',\n",
       " 'MUCH_ADO_ABOUT_NOTHING_DUKE',\n",
       " 'THE_TAMING_OF_THE_SHREW_FIRST_SENATOR',\n",
       " 'MUCH_ADO_ABOUT_NOTHING_MONTANO',\n",
       " 'ALL_S_WELL_THAT_ENDS_WELL_JUPITER',\n",
       " 'ALL_S_WELL_THAT_ENDS_WELL_FIRST_SOLDIER',\n",
       " 'THE_FIRST_PART_OF_KING_HENRY_THE_FOURTH_BASTARD',\n",
       " 'THE_FIRST_PART_OF_KING_HENRY_THE_FOURTH_CHATILLON',\n",
       " 'THE_TRAGEDY_OF_KING_LEAR_MARIANA',\n",
       " 'THE_FIRST_PART_OF_KING_HENRY_THE_FOURTH_BRANDON',\n",
       " 'ALL_S_WELL_THAT_ENDS_WELL_SECOND_PAGE',\n",
       " 'THE_FIRST_PART_OF_KING_HENRY_THE_FOURTH_ALL',\n",
       " 'THE_TRAGEDY_OF_KING_LEAR_BARNARDINE',\n",
       " 'THE_FIRST_PART_OF_KING_HENRY_THE_FOURTH_FIRST_BEADLE',\n",
       " 'PERICLES__PRINCE_OF_TYRE_GHOST_OF_VAUGHAN',\n",
       " 'MUCH_ADO_ABOUT_NOTHING_BIANCA',\n",
       " 'THE_TRAGEDY_OF_KING_LEAR_FENTON',\n",
       " 'THE_FIRST_PART_OF_KING_HENRY_THE_FOURTH_PRINCE_HENRY',\n",
       " 'THE_FIRST_PART_OF_KING_HENRY_THE_FOURTH_HUBERT',\n",
       " 'THE_TRAGEDY_OF_KING_LEAR_CAIUS',\n",
       " 'THE_TRAGEDY_OF_KING_LEAR_GOBBO',\n",
       " 'THE_FIRST_PART_OF_KING_HENRY_THE_FOURTH_WIFE',\n",
       " 'THE_TAMING_OF_THE_SHREW_BOATSWAIN',\n",
       " 'THE_TAMING_OF_THE_SHREW_BASSIANUS',\n",
       " 'THE_FIRST_PART_OF_KING_HENRY_THE_FOURTH_KING',\n",
       " 'THE_FIRST_PART_OF_KING_HENRY_THE_FOURTH_HORNER',\n",
       " 'ALL_S_WELL_THAT_ENDS_WELL_CHARMIAN',\n",
       " 'PERICLES__PRINCE_OF_TYRE_HASTINGS',\n",
       " 'THE_FIRST_PART_OF_KING_HENRY_THE_FOURTH_THIRD_WATCHMAN',\n",
       " 'ALL_S_WELL_THAT_ENDS_WELL_SECOND_SENATOR',\n",
       " 'THE_FIRST_PART_OF_KING_HENRY_THE_FOURTH_BOLINGBROKE',\n",
       " 'PERICLES__PRINCE_OF_TYRE_ANNE',\n",
       " 'THE_FIRST_PART_OF_KING_HENRY_THE_FOURTH_PAGE',\n",
       " 'THE_FIRST_PART_OF_KING_HENRY_THE_FOURTH_CARDINAL',\n",
       " 'THE_FIRST_PART_OF_KING_HENRY_THE_FOURTH_PLANTAGENET',\n",
       " 'THE_FIRST_PART_OF_KING_HENRY_THE_FOURTH_PRINCE',\n",
       " 'PERICLES__PRINCE_OF_TYRE_DAUGHTER',\n",
       " 'THE_FIRST_PART_OF_KING_HENRY_THE_FOURTH_FIRST_WATCHMAN',\n",
       " 'THE_FIRST_PART_OF_KING_HENRY_THE_FOURTH_MICHAEL',\n",
       " 'THE_FIRST_PART_OF_KING_HENRY_THE_FOURTH_CAMBRIDGE',\n",
       " 'THE_FIRST_PART_OF_KING_HENRY_THE_FOURTH_GRIFFITH',\n",
       " 'THE_TRAGEDY_OF_KING_LEAR_LEONARDO',\n",
       " 'PERICLES__PRINCE_OF_TYRE_BUCKINGHAM',\n",
       " 'THE_FIRST_PART_OF_KING_HENRY_THE_FOURTH_WARWICK',\n",
       " 'ALL_S_WELL_THAT_ENDS_WELL_MARTEXT',\n",
       " 'ALL_S_WELL_THAT_ENDS_WELL_MOTHER',\n",
       " 'ALL_S_WELL_THAT_ENDS_WELL_CANIDIUS',\n",
       " 'THE_TRAGEDY_OF_KING_LEAR_CHORUS',\n",
       " 'THE_FIRST_PART_OF_KING_HENRY_THE_FOURTH_NYM',\n",
       " 'ALL_S_WELL_THAT_ENDS_WELL_DID_CALL_ME_BROTHER',\n",
       " 'ALL_S_WELL_THAT_ENDS_WELL_PHILARIO',\n",
       " 'THE_TRAGEDY_OF_KING_LEAR_BEROWNE',\n",
       " 'THE_TRAGEDY_OF_KING_LEAR_ELBOW',\n",
       " 'THE_FIRST_PART_OF_KING_HENRY_THE_FOURTH_BEDFORD',\n",
       " 'THE_TRAGEDY_OF_KING_LEAR_ALL',\n",
       " 'THE_FIRST_PART_OF_KING_HENRY_THE_FOURTH_CRIER',\n",
       " 'THE_TRAGEDY_OF_KING_LEAR_MURTHERER',\n",
       " 'THE_TAMING_OF_THE_SHREW_LUCULLIUS',\n",
       " 'THE_FIRST_PART_OF_KING_HENRY_THE_FOURTH_MONTJOY',\n",
       " 'THE_TRAGEDY_OF_KING_LEAR_PAGE',\n",
       " 'PERICLES__PRINCE_OF_TYRE_GAUNT',\n",
       " 'ALL_S_WELL_THAT_ENDS_WELL_FIRST_GUARD',\n",
       " 'PERICLES__PRINCE_OF_TYRE_PRIEST',\n",
       " 'THE_TRAGEDY_OF_KING_LEAR_NATHANIEL',\n",
       " 'THE_FIRST_PART_OF_KING_HENRY_THE_FOURTH_CONSTANCE',\n",
       " 'ALL_S_WELL_THAT_ENDS_WELL_EROS',\n",
       " 'THE_TRAGEDY_OF_KING_LEAR_ISABELLA',\n",
       " 'PERICLES__PRINCE_OF_TYRE_SON',\n",
       " 'PERICLES__PRINCE_OF_TYRE_AUMERLE',\n",
       " 'PERICLES__PRINCE_OF_TYRE_WILLOUGHBY',\n",
       " 'MUCH_ADO_ABOUT_NOTHING_OTHELLO',\n",
       " 'THE_FIRST_PART_OF_KING_HENRY_THE_FOURTH_FIRST_PETITIONER',\n",
       " 'ALL_S_WELL_THAT_ENDS_WELL_TRIBUNE',\n",
       " 'PERICLES__PRINCE_OF_TYRE_ALL',\n",
       " 'MUCH_ADO_ABOUT_NOTHING_SECOND_SENATOR',\n",
       " 'ALL_S_WELL_THAT_ENDS_WELL_CITIZENS',\n",
       " 'ALL_S_WELL_THAT_ENDS_WELL_FRENCHMAN',\n",
       " 'THE_TAMING_OF_THE_SHREW_FLAVIUS',\n",
       " 'ALL_S_WELL_THAT_ENDS_WELL_VOLUMNIA',\n",
       " 'THE_TAMING_OF_THE_SHREW_PHILOTUS',\n",
       " 'THE_TRAGEDY_OF_KING_LEAR_JAQUENETTA',\n",
       " 'THE_FIRST_PART_OF_KING_HENRY_THE_FOURTH_GOVERNOR',\n",
       " 'THE_FIRST_PART_OF_KING_HENRY_THE_FOURTH_FIRST_WARDER',\n",
       " 'THE_FIRST_PART_OF_KING_HENRY_THE_FOURTH_STAFFORD',\n",
       " 'THE_FIRST_PART_OF_KING_HENRY_THE_FOURTH_FRANCIS',\n",
       " 'THE_TRAGEDY_OF_KING_LEAR_ANGUS',\n",
       " 'THE_FIRST_PART_OF_KING_HENRY_THE_FOURTH_SERVANT',\n",
       " 'THE_FIRST_PART_OF_KING_HENRY_THE_FOURTH_GOWER',\n",
       " 'THE_FIRST_PART_OF_KING_HENRY_THE_FOURTH_CHANCELLOR',\n",
       " 'THE_FIRST_PART_OF_KING_HENRY_THE_FOURTH_ERPINGHAM',\n",
       " 'ALL_S_WELL_THAT_ENDS_WELL_MARCIUS',\n",
       " 'THE_FIRST_PART_OF_KING_HENRY_THE_FOURTH_WILLIAMS',\n",
       " 'MUCH_ADO_ABOUT_NOTHING_FIRST_GENTLEMAN',\n",
       " 'ALL_S_WELL_THAT_ENDS_WELL_FIRST_CONSPIRATOR',\n",
       " 'THE_TAMING_OF_THE_SHREW_SECOND_SERVANT',\n",
       " 'THE_FIRST_PART_OF_KING_HENRY_THE_FOURTH_DENNY',\n",
       " 'THE_FIRST_PART_OF_KING_HENRY_THE_FOURTH_TOWNSMAN',\n",
       " 'THE_FIRST_PART_OF_KING_HENRY_THE_FOURTH_REIGNIER',\n",
       " 'THE_FIRST_PART_OF_KING_HENRY_THE_FOURTH_GLOUCESTER',\n",
       " 'THE_FIRST_PART_OF_KING_HENRY_THE_FOURTH_PUCELLE',\n",
       " 'THE_TRAGEDY_OF_KING_LEAR_MRS']"
      ]
     },
     "execution_count": 66,
     "metadata": {},
     "output_type": "execute_result"
    }
   ],
   "source": [
    "data['users']"
   ]
  },
  {
   "cell_type": "code",
   "execution_count": null,
   "id": "9d9710c6-1aaf-459e-8f41-bf169377a390",
   "metadata": {},
   "outputs": [],
   "source": []
  },
  {
   "cell_type": "code",
   "execution_count": null,
   "id": "b5ee163d-525a-4430-a34c-0e4703311fa4",
   "metadata": {},
   "outputs": [],
   "source": []
  },
  {
   "cell_type": "code",
   "execution_count": null,
   "id": "e0d872b5-ad28-4e97-991e-05df80218bc4",
   "metadata": {},
   "outputs": [],
   "source": []
  }
 ],
 "metadata": {
  "kernelspec": {
   "display_name": "Python (myenv)",
   "language": "python",
   "name": "myenv"
  },
  "language_info": {
   "codemirror_mode": {
    "name": "ipython",
    "version": 3
   },
   "file_extension": ".py",
   "mimetype": "text/x-python",
   "name": "python",
   "nbconvert_exporter": "python",
   "pygments_lexer": "ipython3",
   "version": "3.10.11"
  }
 },
 "nbformat": 4,
 "nbformat_minor": 5
}
